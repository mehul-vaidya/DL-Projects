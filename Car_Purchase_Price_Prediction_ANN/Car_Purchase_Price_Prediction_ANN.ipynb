{
  "nbformat": 4,
  "nbformat_minor": 0,
  "metadata": {
    "colab": {
      "provenance": []
    },
    "kernelspec": {
      "name": "python3",
      "display_name": "Python 3"
    },
    "language_info": {
      "name": "python"
    }
  },
  "cells": [
    {
      "cell_type": "code",
      "execution_count": 3,
      "metadata": {
        "id": "ab0eZNRLl1Qv"
      },
      "outputs": [],
      "source": [
        "import numpy as np\n",
        "import pandas as pd\n",
        "import matplotlib.pyplot as plt\n",
        "from tensorflow.keras.models import Sequential\n",
        "from tensorflow.keras.layers import Dense\n",
        "from sklearn.linear_model import LinearRegression\n",
        "from sklearn.metrics import r2_score\n",
        "from sklearn.model_selection import train_test_split\n",
        "from sklearn.preprocessing import MinMaxScaler\n",
        "import seaborn as sns"
      ]
    },
    {
      "cell_type": "code",
      "source": [
        "df = pd.read_csv('car_purchasing.csv', encoding='ISO-8859-1')\n",
        "df.head()"
      ],
      "metadata": {
        "colab": {
          "base_uri": "https://localhost:8080/",
          "height": 206
        },
        "id": "WFSiAhJkmIFx",
        "outputId": "65567314-c028-4776-98c0-d03f5ab056e2"
      },
      "execution_count": 4,
      "outputs": [
        {
          "output_type": "execute_result",
          "data": {
            "text/plain": [
              "     customer name                                    customer e-mail  \\\n",
              "0    Martina Avila  cubilia.Curae.Phasellus@quisaccumsanconvallis.edu   \n",
              "1    Harlan Barnes                                eu.dolor@diam.co.uk   \n",
              "2  Naomi Rodriquez  vulputate.mauris.sagittis@ametconsectetueradip...   \n",
              "3  Jade Cunningham                            malesuada@dignissim.com   \n",
              "4     Cedric Leach     felis.ullamcorper.viverra@egetmollislectus.net   \n",
              "\n",
              "        country  gender        age  annual Salary  credit card debt  \\\n",
              "0      Bulgaria       0  41.851720    62812.09301      11609.380910   \n",
              "1        Belize       0  40.870623    66646.89292       9572.957136   \n",
              "2       Algeria       1  43.152897    53798.55112      11160.355060   \n",
              "3  Cook Islands       1  58.271369    79370.03798      14426.164850   \n",
              "4        Brazil       1  57.313749    59729.15130       5358.712177   \n",
              "\n",
              "     net worth  car purchase amount  \n",
              "0  238961.2505          35321.45877  \n",
              "1  530973.9078          45115.52566  \n",
              "2  638467.1773          42925.70921  \n",
              "3  548599.0524          67422.36313  \n",
              "4  560304.0671          55915.46248  "
            ],
            "text/html": [
              "\n",
              "  <div id=\"df-5274c654-fa36-4b18-ba1d-07971434dbfa\" class=\"colab-df-container\">\n",
              "    <div>\n",
              "<style scoped>\n",
              "    .dataframe tbody tr th:only-of-type {\n",
              "        vertical-align: middle;\n",
              "    }\n",
              "\n",
              "    .dataframe tbody tr th {\n",
              "        vertical-align: top;\n",
              "    }\n",
              "\n",
              "    .dataframe thead th {\n",
              "        text-align: right;\n",
              "    }\n",
              "</style>\n",
              "<table border=\"1\" class=\"dataframe\">\n",
              "  <thead>\n",
              "    <tr style=\"text-align: right;\">\n",
              "      <th></th>\n",
              "      <th>customer name</th>\n",
              "      <th>customer e-mail</th>\n",
              "      <th>country</th>\n",
              "      <th>gender</th>\n",
              "      <th>age</th>\n",
              "      <th>annual Salary</th>\n",
              "      <th>credit card debt</th>\n",
              "      <th>net worth</th>\n",
              "      <th>car purchase amount</th>\n",
              "    </tr>\n",
              "  </thead>\n",
              "  <tbody>\n",
              "    <tr>\n",
              "      <th>0</th>\n",
              "      <td>Martina Avila</td>\n",
              "      <td>cubilia.Curae.Phasellus@quisaccumsanconvallis.edu</td>\n",
              "      <td>Bulgaria</td>\n",
              "      <td>0</td>\n",
              "      <td>41.851720</td>\n",
              "      <td>62812.09301</td>\n",
              "      <td>11609.380910</td>\n",
              "      <td>238961.2505</td>\n",
              "      <td>35321.45877</td>\n",
              "    </tr>\n",
              "    <tr>\n",
              "      <th>1</th>\n",
              "      <td>Harlan Barnes</td>\n",
              "      <td>eu.dolor@diam.co.uk</td>\n",
              "      <td>Belize</td>\n",
              "      <td>0</td>\n",
              "      <td>40.870623</td>\n",
              "      <td>66646.89292</td>\n",
              "      <td>9572.957136</td>\n",
              "      <td>530973.9078</td>\n",
              "      <td>45115.52566</td>\n",
              "    </tr>\n",
              "    <tr>\n",
              "      <th>2</th>\n",
              "      <td>Naomi Rodriquez</td>\n",
              "      <td>vulputate.mauris.sagittis@ametconsectetueradip...</td>\n",
              "      <td>Algeria</td>\n",
              "      <td>1</td>\n",
              "      <td>43.152897</td>\n",
              "      <td>53798.55112</td>\n",
              "      <td>11160.355060</td>\n",
              "      <td>638467.1773</td>\n",
              "      <td>42925.70921</td>\n",
              "    </tr>\n",
              "    <tr>\n",
              "      <th>3</th>\n",
              "      <td>Jade Cunningham</td>\n",
              "      <td>malesuada@dignissim.com</td>\n",
              "      <td>Cook Islands</td>\n",
              "      <td>1</td>\n",
              "      <td>58.271369</td>\n",
              "      <td>79370.03798</td>\n",
              "      <td>14426.164850</td>\n",
              "      <td>548599.0524</td>\n",
              "      <td>67422.36313</td>\n",
              "    </tr>\n",
              "    <tr>\n",
              "      <th>4</th>\n",
              "      <td>Cedric Leach</td>\n",
              "      <td>felis.ullamcorper.viverra@egetmollislectus.net</td>\n",
              "      <td>Brazil</td>\n",
              "      <td>1</td>\n",
              "      <td>57.313749</td>\n",
              "      <td>59729.15130</td>\n",
              "      <td>5358.712177</td>\n",
              "      <td>560304.0671</td>\n",
              "      <td>55915.46248</td>\n",
              "    </tr>\n",
              "  </tbody>\n",
              "</table>\n",
              "</div>\n",
              "    <div class=\"colab-df-buttons\">\n",
              "\n",
              "  <div class=\"colab-df-container\">\n",
              "    <button class=\"colab-df-convert\" onclick=\"convertToInteractive('df-5274c654-fa36-4b18-ba1d-07971434dbfa')\"\n",
              "            title=\"Convert this dataframe to an interactive table.\"\n",
              "            style=\"display:none;\">\n",
              "\n",
              "  <svg xmlns=\"http://www.w3.org/2000/svg\" height=\"24px\" viewBox=\"0 -960 960 960\">\n",
              "    <path d=\"M120-120v-720h720v720H120Zm60-500h600v-160H180v160Zm220 220h160v-160H400v160Zm0 220h160v-160H400v160ZM180-400h160v-160H180v160Zm440 0h160v-160H620v160ZM180-180h160v-160H180v160Zm440 0h160v-160H620v160Z\"/>\n",
              "  </svg>\n",
              "    </button>\n",
              "\n",
              "  <style>\n",
              "    .colab-df-container {\n",
              "      display:flex;\n",
              "      gap: 12px;\n",
              "    }\n",
              "\n",
              "    .colab-df-convert {\n",
              "      background-color: #E8F0FE;\n",
              "      border: none;\n",
              "      border-radius: 50%;\n",
              "      cursor: pointer;\n",
              "      display: none;\n",
              "      fill: #1967D2;\n",
              "      height: 32px;\n",
              "      padding: 0 0 0 0;\n",
              "      width: 32px;\n",
              "    }\n",
              "\n",
              "    .colab-df-convert:hover {\n",
              "      background-color: #E2EBFA;\n",
              "      box-shadow: 0px 1px 2px rgba(60, 64, 67, 0.3), 0px 1px 3px 1px rgba(60, 64, 67, 0.15);\n",
              "      fill: #174EA6;\n",
              "    }\n",
              "\n",
              "    .colab-df-buttons div {\n",
              "      margin-bottom: 4px;\n",
              "    }\n",
              "\n",
              "    [theme=dark] .colab-df-convert {\n",
              "      background-color: #3B4455;\n",
              "      fill: #D2E3FC;\n",
              "    }\n",
              "\n",
              "    [theme=dark] .colab-df-convert:hover {\n",
              "      background-color: #434B5C;\n",
              "      box-shadow: 0px 1px 3px 1px rgba(0, 0, 0, 0.15);\n",
              "      filter: drop-shadow(0px 1px 2px rgba(0, 0, 0, 0.3));\n",
              "      fill: #FFFFFF;\n",
              "    }\n",
              "  </style>\n",
              "\n",
              "    <script>\n",
              "      const buttonEl =\n",
              "        document.querySelector('#df-5274c654-fa36-4b18-ba1d-07971434dbfa button.colab-df-convert');\n",
              "      buttonEl.style.display =\n",
              "        google.colab.kernel.accessAllowed ? 'block' : 'none';\n",
              "\n",
              "      async function convertToInteractive(key) {\n",
              "        const element = document.querySelector('#df-5274c654-fa36-4b18-ba1d-07971434dbfa');\n",
              "        const dataTable =\n",
              "          await google.colab.kernel.invokeFunction('convertToInteractive',\n",
              "                                                    [key], {});\n",
              "        if (!dataTable) return;\n",
              "\n",
              "        const docLinkHtml = 'Like what you see? Visit the ' +\n",
              "          '<a target=\"_blank\" href=https://colab.research.google.com/notebooks/data_table.ipynb>data table notebook</a>'\n",
              "          + ' to learn more about interactive tables.';\n",
              "        element.innerHTML = '';\n",
              "        dataTable['output_type'] = 'display_data';\n",
              "        await google.colab.output.renderOutput(dataTable, element);\n",
              "        const docLink = document.createElement('div');\n",
              "        docLink.innerHTML = docLinkHtml;\n",
              "        element.appendChild(docLink);\n",
              "      }\n",
              "    </script>\n",
              "  </div>\n",
              "\n",
              "\n",
              "<div id=\"df-0acb8d3b-1c42-44b7-8f67-6c3463616c2b\">\n",
              "  <button class=\"colab-df-quickchart\" onclick=\"quickchart('df-0acb8d3b-1c42-44b7-8f67-6c3463616c2b')\"\n",
              "            title=\"Suggest charts\"\n",
              "            style=\"display:none;\">\n",
              "\n",
              "<svg xmlns=\"http://www.w3.org/2000/svg\" height=\"24px\"viewBox=\"0 0 24 24\"\n",
              "     width=\"24px\">\n",
              "    <g>\n",
              "        <path d=\"M19 3H5c-1.1 0-2 .9-2 2v14c0 1.1.9 2 2 2h14c1.1 0 2-.9 2-2V5c0-1.1-.9-2-2-2zM9 17H7v-7h2v7zm4 0h-2V7h2v10zm4 0h-2v-4h2v4z\"/>\n",
              "    </g>\n",
              "</svg>\n",
              "  </button>\n",
              "\n",
              "<style>\n",
              "  .colab-df-quickchart {\n",
              "      --bg-color: #E8F0FE;\n",
              "      --fill-color: #1967D2;\n",
              "      --hover-bg-color: #E2EBFA;\n",
              "      --hover-fill-color: #174EA6;\n",
              "      --disabled-fill-color: #AAA;\n",
              "      --disabled-bg-color: #DDD;\n",
              "  }\n",
              "\n",
              "  [theme=dark] .colab-df-quickchart {\n",
              "      --bg-color: #3B4455;\n",
              "      --fill-color: #D2E3FC;\n",
              "      --hover-bg-color: #434B5C;\n",
              "      --hover-fill-color: #FFFFFF;\n",
              "      --disabled-bg-color: #3B4455;\n",
              "      --disabled-fill-color: #666;\n",
              "  }\n",
              "\n",
              "  .colab-df-quickchart {\n",
              "    background-color: var(--bg-color);\n",
              "    border: none;\n",
              "    border-radius: 50%;\n",
              "    cursor: pointer;\n",
              "    display: none;\n",
              "    fill: var(--fill-color);\n",
              "    height: 32px;\n",
              "    padding: 0;\n",
              "    width: 32px;\n",
              "  }\n",
              "\n",
              "  .colab-df-quickchart:hover {\n",
              "    background-color: var(--hover-bg-color);\n",
              "    box-shadow: 0 1px 2px rgba(60, 64, 67, 0.3), 0 1px 3px 1px rgba(60, 64, 67, 0.15);\n",
              "    fill: var(--button-hover-fill-color);\n",
              "  }\n",
              "\n",
              "  .colab-df-quickchart-complete:disabled,\n",
              "  .colab-df-quickchart-complete:disabled:hover {\n",
              "    background-color: var(--disabled-bg-color);\n",
              "    fill: var(--disabled-fill-color);\n",
              "    box-shadow: none;\n",
              "  }\n",
              "\n",
              "  .colab-df-spinner {\n",
              "    border: 2px solid var(--fill-color);\n",
              "    border-color: transparent;\n",
              "    border-bottom-color: var(--fill-color);\n",
              "    animation:\n",
              "      spin 1s steps(1) infinite;\n",
              "  }\n",
              "\n",
              "  @keyframes spin {\n",
              "    0% {\n",
              "      border-color: transparent;\n",
              "      border-bottom-color: var(--fill-color);\n",
              "      border-left-color: var(--fill-color);\n",
              "    }\n",
              "    20% {\n",
              "      border-color: transparent;\n",
              "      border-left-color: var(--fill-color);\n",
              "      border-top-color: var(--fill-color);\n",
              "    }\n",
              "    30% {\n",
              "      border-color: transparent;\n",
              "      border-left-color: var(--fill-color);\n",
              "      border-top-color: var(--fill-color);\n",
              "      border-right-color: var(--fill-color);\n",
              "    }\n",
              "    40% {\n",
              "      border-color: transparent;\n",
              "      border-right-color: var(--fill-color);\n",
              "      border-top-color: var(--fill-color);\n",
              "    }\n",
              "    60% {\n",
              "      border-color: transparent;\n",
              "      border-right-color: var(--fill-color);\n",
              "    }\n",
              "    80% {\n",
              "      border-color: transparent;\n",
              "      border-right-color: var(--fill-color);\n",
              "      border-bottom-color: var(--fill-color);\n",
              "    }\n",
              "    90% {\n",
              "      border-color: transparent;\n",
              "      border-bottom-color: var(--fill-color);\n",
              "    }\n",
              "  }\n",
              "</style>\n",
              "\n",
              "  <script>\n",
              "    async function quickchart(key) {\n",
              "      const quickchartButtonEl =\n",
              "        document.querySelector('#' + key + ' button');\n",
              "      quickchartButtonEl.disabled = true;  // To prevent multiple clicks.\n",
              "      quickchartButtonEl.classList.add('colab-df-spinner');\n",
              "      try {\n",
              "        const charts = await google.colab.kernel.invokeFunction(\n",
              "            'suggestCharts', [key], {});\n",
              "      } catch (error) {\n",
              "        console.error('Error during call to suggestCharts:', error);\n",
              "      }\n",
              "      quickchartButtonEl.classList.remove('colab-df-spinner');\n",
              "      quickchartButtonEl.classList.add('colab-df-quickchart-complete');\n",
              "    }\n",
              "    (() => {\n",
              "      let quickchartButtonEl =\n",
              "        document.querySelector('#df-0acb8d3b-1c42-44b7-8f67-6c3463616c2b button');\n",
              "      quickchartButtonEl.style.display =\n",
              "        google.colab.kernel.accessAllowed ? 'block' : 'none';\n",
              "    })();\n",
              "  </script>\n",
              "</div>\n",
              "\n",
              "    </div>\n",
              "  </div>\n"
            ],
            "application/vnd.google.colaboratory.intrinsic+json": {
              "type": "dataframe",
              "variable_name": "df",
              "summary": "{\n  \"name\": \"df\",\n  \"rows\": 500,\n  \"fields\": [\n    {\n      \"column\": \"customer name\",\n      \"properties\": {\n        \"dtype\": \"string\",\n        \"num_unique_values\": 498,\n        \"samples\": [\n          \"Neville\",\n          \"Matthew Colon\",\n          \"Emerald U. Hanson\"\n        ],\n        \"semantic_type\": \"\",\n        \"description\": \"\"\n      }\n    },\n    {\n      \"column\": \"customer e-mail\",\n      \"properties\": {\n        \"dtype\": \"string\",\n        \"num_unique_values\": 500,\n        \"samples\": [\n          \"consequat.auctor@lacuspede.co.uk\",\n          \"facilisis@Nullainterdum.edu\",\n          \"pellentesque.a.facilisis@nonlacinia.co.uk\"\n        ],\n        \"semantic_type\": \"\",\n        \"description\": \"\"\n      }\n    },\n    {\n      \"column\": \"country\",\n      \"properties\": {\n        \"dtype\": \"category\",\n        \"num_unique_values\": 211,\n        \"samples\": [\n          \"Costa Rica\",\n          \"Bosnia and Herzegovina\",\n          \"Saint Martin\"\n        ],\n        \"semantic_type\": \"\",\n        \"description\": \"\"\n      }\n    },\n    {\n      \"column\": \"gender\",\n      \"properties\": {\n        \"dtype\": \"number\",\n        \"std\": 0,\n        \"min\": 0,\n        \"max\": 1,\n        \"num_unique_values\": 2,\n        \"samples\": [\n          1,\n          0\n        ],\n        \"semantic_type\": \"\",\n        \"description\": \"\"\n      }\n    },\n    {\n      \"column\": \"age\",\n      \"properties\": {\n        \"dtype\": \"number\",\n        \"std\": 7.978861652261324,\n        \"min\": 20.0,\n        \"max\": 70.0,\n        \"num_unique_values\": 500,\n        \"samples\": [\n          36.12691774,\n          47.78972925\n        ],\n        \"semantic_type\": \"\",\n        \"description\": \"\"\n      }\n    },\n    {\n      \"column\": \"annual Salary\",\n      \"properties\": {\n        \"dtype\": \"number\",\n        \"std\": 11703.378227774128,\n        \"min\": 20000.0,\n        \"max\": 100000.0,\n        \"num_unique_values\": 500,\n        \"samples\": [\n          74420.10254,\n          59139.2108\n        ],\n        \"semantic_type\": \"\",\n        \"description\": \"\"\n      }\n    },\n    {\n      \"column\": \"credit card debt\",\n      \"properties\": {\n        \"dtype\": \"number\",\n        \"std\": 3489.1879728382005,\n        \"min\": 100.0,\n        \"max\": 20000.0,\n        \"num_unique_values\": 500,\n        \"samples\": [\n          10274.13558,\n          4630.544424\n        ],\n        \"semantic_type\": \"\",\n        \"description\": \"\"\n      }\n    },\n    {\n      \"column\": \"net worth\",\n      \"properties\": {\n        \"dtype\": \"number\",\n        \"std\": 173536.75634000325,\n        \"min\": 20000.0,\n        \"max\": 1000000.0,\n        \"num_unique_values\": 500,\n        \"samples\": [\n          551344.3365,\n          473845.8546\n        ],\n        \"semantic_type\": \"\",\n        \"description\": \"\"\n      }\n    },\n    {\n      \"column\": \"car purchase amount\",\n      \"properties\": {\n        \"dtype\": \"number\",\n        \"std\": 10773.178744235342,\n        \"min\": 9000.0,\n        \"max\": 80000.0,\n        \"num_unique_values\": 500,\n        \"samples\": [\n          46082.80993,\n          45058.8969\n        ],\n        \"semantic_type\": \"\",\n        \"description\": \"\"\n      }\n    }\n  ]\n}"
            }
          },
          "metadata": {},
          "execution_count": 4
        }
      ]
    },
    {
      "cell_type": "markdown",
      "source": [
        "**name, email , gender , country are irrelevant. drop them**"
      ],
      "metadata": {
        "id": "Yxf1Rvk8tLKb"
      }
    },
    {
      "cell_type": "code",
      "source": [
        "df.drop(columns=['customer name', 'customer e-mail', 'country', 'gender'], inplace=True)"
      ],
      "metadata": {
        "id": "AtVQv6_FtUr7"
      },
      "execution_count": 5,
      "outputs": []
    },
    {
      "cell_type": "markdown",
      "source": [
        "**Drop NA**"
      ],
      "metadata": {
        "id": "_IQsEe3JxnZz"
      }
    },
    {
      "cell_type": "code",
      "source": [
        "df.isna().sum()"
      ],
      "metadata": {
        "colab": {
          "base_uri": "https://localhost:8080/"
        },
        "id": "EJQVkmFwxpcv",
        "outputId": "60ba088c-9482-4a85-84f4-2fd7ecba8759"
      },
      "execution_count": 6,
      "outputs": [
        {
          "output_type": "execute_result",
          "data": {
            "text/plain": [
              "age                    0\n",
              "annual Salary          0\n",
              "credit card debt       0\n",
              "net worth              0\n",
              "car purchase amount    0\n",
              "dtype: int64"
            ]
          },
          "metadata": {},
          "execution_count": 6
        }
      ]
    },
    {
      "cell_type": "markdown",
      "source": [
        "**Plot The Graph**"
      ],
      "metadata": {
        "id": "ulh9VvYQyOJ4"
      }
    },
    {
      "cell_type": "code",
      "source": [
        "plt.scatter(df['annual Salary'] , df['credit card debt'])\n",
        "plt.xlabel('annual Salary')\n",
        "plt.ylabel('credit card debt')\n",
        "plt.title('credit card debt vs annual Salary')"
      ],
      "metadata": {
        "colab": {
          "base_uri": "https://localhost:8080/",
          "height": 489
        },
        "id": "SVVSayoKyH4S",
        "outputId": "7a9813aa-c2ab-4e40-f5da-86807513c5bb"
      },
      "execution_count": 7,
      "outputs": [
        {
          "output_type": "execute_result",
          "data": {
            "text/plain": [
              "Text(0.5, 1.0, 'credit card debt vs annual Salary')"
            ]
          },
          "metadata": {},
          "execution_count": 7
        },
        {
          "output_type": "display_data",
          "data": {
            "text/plain": [
              "<Figure size 640x480 with 1 Axes>"
            ],
            "image/png": "[encoded data removed]"
          },
          "metadata": {}
        }
      ]
    },
    {
      "cell_type": "markdown",
      "source": [
        "**Split X and y**"
      ],
      "metadata": {
        "id": "Bm2lC1aFEZvN"
      }
    },
    {
      "cell_type": "code",
      "source": [
        "X = df.iloc[:, :-1] #drop target column\n",
        "X"
      ],
      "metadata": {
        "colab": {
          "base_uri": "https://localhost:8080/",
          "height": 424
        },
        "id": "43m-Sjmdo30b",
        "outputId": "fdab18f5-50fd-4783-d120-aba5b22d9f57"
      },
      "execution_count": 8,
      "outputs": [
        {
          "output_type": "execute_result",
          "data": {
            "text/plain": [
              "           age  annual Salary  credit card debt    net worth\n",
              "0    41.851720    62812.09301      11609.380910  238961.2505\n",
              "1    40.870623    66646.89292       9572.957136  530973.9078\n",
              "2    43.152897    53798.55112      11160.355060  638467.1773\n",
              "3    58.271369    79370.03798      14426.164850  548599.0524\n",
              "4    57.313749    59729.15130       5358.712177  560304.0671\n",
              "..         ...            ...               ...          ...\n",
              "495  41.462515    71942.40291       6995.902524  541670.1016\n",
              "496  37.642000    56039.49793      12301.456790  360419.0988\n",
              "497  53.943497    68888.77805      10611.606860  764531.3203\n",
              "498  59.160509    49811.99062      14013.034510  337826.6382\n",
              "499  46.731152    61370.67766       9391.341628  462946.4924\n",
              "\n",
              "[500 rows x 4 columns]"
            ],
            "text/html": [
              "\n",
              "  <div id=\"df-6283db2e-e2fe-4e71-a954-d1dcb88befb6\" class=\"colab-df-container\">\n",
              "    <div>\n",
              "<style scoped>\n",
              "    .dataframe tbody tr th:only-of-type {\n",
              "        vertical-align: middle;\n",
              "    }\n",
              "\n",
              "    .dataframe tbody tr th {\n",
              "        vertical-align: top;\n",
              "    }\n",
              "\n",
              "    .dataframe thead th {\n",
              "        text-align: right;\n",
              "    }\n",
              "</style>\n",
              "<table border=\"1\" class=\"dataframe\">\n",
              "  <thead>\n",
              "    <tr style=\"text-align: right;\">\n",
              "      <th></th>\n",
              "      <th>age</th>\n",
              "      <th>annual Salary</th>\n",
              "      <th>credit card debt</th>\n",
              "      <th>net worth</th>\n",
              "    </tr>\n",
              "  </thead>\n",
              "  <tbody>\n",
              "    <tr>\n",
              "      <th>0</th>\n",
              "      <td>41.851720</td>\n",
              "      <td>62812.09301</td>\n",
              "      <td>11609.380910</td>\n",
              "      <td>238961.2505</td>\n",
              "    </tr>\n",
              "    <tr>\n",
              "      <th>1</th>\n",
              "      <td>40.870623</td>\n",
              "      <td>66646.89292</td>\n",
              "      <td>9572.957136</td>\n",
              "      <td>530973.9078</td>\n",
              "    </tr>\n",
              "    <tr>\n",
              "      <th>2</th>\n",
              "      <td>43.152897</td>\n",
              "      <td>53798.55112</td>\n",
              "      <td>11160.355060</td>\n",
              "      <td>638467.1773</td>\n",
              "    </tr>\n",
              "    <tr>\n",
              "      <th>3</th>\n",
              "      <td>58.271369</td>\n",
              "      <td>79370.03798</td>\n",
              "      <td>14426.164850</td>\n",
              "      <td>548599.0524</td>\n",
              "    </tr>\n",
              "    <tr>\n",
              "      <th>4</th>\n",
              "      <td>57.313749</td>\n",
              "      <td>59729.15130</td>\n",
              "      <td>5358.712177</td>\n",
              "      <td>560304.0671</td>\n",
              "    </tr>\n",
              "    <tr>\n",
              "      <th>...</th>\n",
              "      <td>...</td>\n",
              "      <td>...</td>\n",
              "      <td>...</td>\n",
              "      <td>...</td>\n",
              "    </tr>\n",
              "    <tr>\n",
              "      <th>495</th>\n",
              "      <td>41.462515</td>\n",
              "      <td>71942.40291</td>\n",
              "      <td>6995.902524</td>\n",
              "      <td>541670.1016</td>\n",
              "    </tr>\n",
              "    <tr>\n",
              "      <th>496</th>\n",
              "      <td>37.642000</td>\n",
              "      <td>56039.49793</td>\n",
              "      <td>12301.456790</td>\n",
              "      <td>360419.0988</td>\n",
              "    </tr>\n",
              "    <tr>\n",
              "      <th>497</th>\n",
              "      <td>53.943497</td>\n",
              "      <td>68888.77805</td>\n",
              "      <td>10611.606860</td>\n",
              "      <td>764531.3203</td>\n",
              "    </tr>\n",
              "    <tr>\n",
              "      <th>498</th>\n",
              "      <td>59.160509</td>\n",
              "      <td>49811.99062</td>\n",
              "      <td>14013.034510</td>\n",
              "      <td>337826.6382</td>\n",
              "    </tr>\n",
              "    <tr>\n",
              "      <th>499</th>\n",
              "      <td>46.731152</td>\n",
              "      <td>61370.67766</td>\n",
              "      <td>9391.341628</td>\n",
              "      <td>462946.4924</td>\n",
              "    </tr>\n",
              "  </tbody>\n",
              "</table>\n",
              "<p>500 rows × 4 columns</p>\n",
              "</div>\n",
              "    <div class=\"colab-df-buttons\">\n",
              "\n",
              "  <div class=\"colab-df-container\">\n",
              "    <button class=\"colab-df-convert\" onclick=\"convertToInteractive('df-6283db2e-e2fe-4e71-a954-d1dcb88befb6')\"\n",
              "            title=\"Convert this dataframe to an interactive table.\"\n",
              "            style=\"display:none;\">\n",
              "\n",
              "  <svg xmlns=\"http://www.w3.org/2000/svg\" height=\"24px\" viewBox=\"0 -960 960 960\">\n",
              "    <path d=\"M120-120v-720h720v720H120Zm60-500h600v-160H180v160Zm220 220h160v-160H400v160Zm0 220h160v-160H400v160ZM180-400h160v-160H180v160Zm440 0h160v-160H620v160ZM180-180h160v-160H180v160Zm440 0h160v-160H620v160Z\"/>\n",
              "  </svg>\n",
              "    </button>\n",
              "\n",
              "  <style>\n",
              "    .colab-df-container {\n",
              "      display:flex;\n",
              "      gap: 12px;\n",
              "    }\n",
              "\n",
              "    .colab-df-convert {\n",
              "      background-color: #E8F0FE;\n",
              "      border: none;\n",
              "      border-radius: 50%;\n",
              "      cursor: pointer;\n",
              "      display: none;\n",
              "      fill: #1967D2;\n",
              "      height: 32px;\n",
              "      padding: 0 0 0 0;\n",
              "      width: 32px;\n",
              "    }\n",
              "\n",
              "    .colab-df-convert:hover {\n",
              "      background-color: #E2EBFA;\n",
              "      box-shadow: 0px 1px 2px rgba(60, 64, 67, 0.3), 0px 1px 3px 1px rgba(60, 64, 67, 0.15);\n",
              "      fill: #174EA6;\n",
              "    }\n",
              "\n",
              "    .colab-df-buttons div {\n",
              "      margin-bottom: 4px;\n",
              "    }\n",
              "\n",
              "    [theme=dark] .colab-df-convert {\n",
              "      background-color: #3B4455;\n",
              "      fill: #D2E3FC;\n",
              "    }\n",
              "\n",
              "    [theme=dark] .colab-df-convert:hover {\n",
              "      background-color: #434B5C;\n",
              "      box-shadow: 0px 1px 3px 1px rgba(0, 0, 0, 0.15);\n",
              "      filter: drop-shadow(0px 1px 2px rgba(0, 0, 0, 0.3));\n",
              "      fill: #FFFFFF;\n",
              "    }\n",
              "  </style>\n",
              "\n",
              "    <script>\n",
              "      const buttonEl =\n",
              "        document.querySelector('#df-6283db2e-e2fe-4e71-a954-d1dcb88befb6 button.colab-df-convert');\n",
              "      buttonEl.style.display =\n",
              "        google.colab.kernel.accessAllowed ? 'block' : 'none';\n",
              "\n",
              "      async function convertToInteractive(key) {\n",
              "        const element = document.querySelector('#df-6283db2e-e2fe-4e71-a954-d1dcb88befb6');\n",
              "        const dataTable =\n",
              "          await google.colab.kernel.invokeFunction('convertToInteractive',\n",
              "                                                    [key], {});\n",
              "        if (!dataTable) return;\n",
              "\n",
              "        const docLinkHtml = 'Like what you see? Visit the ' +\n",
              "          '<a target=\"_blank\" href=https://colab.research.google.com/notebooks/data_table.ipynb>data table notebook</a>'\n",
              "          + ' to learn more about interactive tables.';\n",
              "        element.innerHTML = '';\n",
              "        dataTable['output_type'] = 'display_data';\n",
              "        await google.colab.output.renderOutput(dataTable, element);\n",
              "        const docLink = document.createElement('div');\n",
              "        docLink.innerHTML = docLinkHtml;\n",
              "        element.appendChild(docLink);\n",
              "      }\n",
              "    </script>\n",
              "  </div>\n",
              "\n",
              "\n",
              "<div id=\"df-6414f323-3f7f-49ff-8b00-5921c48d5333\">\n",
              "  <button class=\"colab-df-quickchart\" onclick=\"quickchart('df-6414f323-3f7f-49ff-8b00-5921c48d5333')\"\n",
              "            title=\"Suggest charts\"\n",
              "            style=\"display:none;\">\n",
              "\n",
              "<svg xmlns=\"http://www.w3.org/2000/svg\" height=\"24px\"viewBox=\"0 0 24 24\"\n",
              "     width=\"24px\">\n",
              "    <g>\n",
              "        <path d=\"M19 3H5c-1.1 0-2 .9-2 2v14c0 1.1.9 2 2 2h14c1.1 0 2-.9 2-2V5c0-1.1-.9-2-2-2zM9 17H7v-7h2v7zm4 0h-2V7h2v10zm4 0h-2v-4h2v4z\"/>\n",
              "    </g>\n",
              "</svg>\n",
              "  </button>\n",
              "\n",
              "<style>\n",
              "  .colab-df-quickchart {\n",
              "      --bg-color: #E8F0FE;\n",
              "      --fill-color: #1967D2;\n",
              "      --hover-bg-color: #E2EBFA;\n",
              "      --hover-fill-color: #174EA6;\n",
              "      --disabled-fill-color: #AAA;\n",
              "      --disabled-bg-color: #DDD;\n",
              "  }\n",
              "\n",
              "  [theme=dark] .colab-df-quickchart {\n",
              "      --bg-color: #3B4455;\n",
              "      --fill-color: #D2E3FC;\n",
              "      --hover-bg-color: #434B5C;\n",
              "      --hover-fill-color: #FFFFFF;\n",
              "      --disabled-bg-color: #3B4455;\n",
              "      --disabled-fill-color: #666;\n",
              "  }\n",
              "\n",
              "  .colab-df-quickchart {\n",
              "    background-color: var(--bg-color);\n",
              "    border: none;\n",
              "    border-radius: 50%;\n",
              "    cursor: pointer;\n",
              "    display: none;\n",
              "    fill: var(--fill-color);\n",
              "    height: 32px;\n",
              "    padding: 0;\n",
              "    width: 32px;\n",
              "  }\n",
              "\n",
              "  .colab-df-quickchart:hover {\n",
              "    background-color: var(--hover-bg-color);\n",
              "    box-shadow: 0 1px 2px rgba(60, 64, 67, 0.3), 0 1px 3px 1px rgba(60, 64, 67, 0.15);\n",
              "    fill: var(--button-hover-fill-color);\n",
              "  }\n",
              "\n",
              "  .colab-df-quickchart-complete:disabled,\n",
              "  .colab-df-quickchart-complete:disabled:hover {\n",
              "    background-color: var(--disabled-bg-color);\n",
              "    fill: var(--disabled-fill-color);\n",
              "    box-shadow: none;\n",
              "  }\n",
              "\n",
              "  .colab-df-spinner {\n",
              "    border: 2px solid var(--fill-color);\n",
              "    border-color: transparent;\n",
              "    border-bottom-color: var(--fill-color);\n",
              "    animation:\n",
              "      spin 1s steps(1) infinite;\n",
              "  }\n",
              "\n",
              "  @keyframes spin {\n",
              "    0% {\n",
              "      border-color: transparent;\n",
              "      border-bottom-color: var(--fill-color);\n",
              "      border-left-color: var(--fill-color);\n",
              "    }\n",
              "    20% {\n",
              "      border-color: transparent;\n",
              "      border-left-color: var(--fill-color);\n",
              "      border-top-color: var(--fill-color);\n",
              "    }\n",
              "    30% {\n",
              "      border-color: transparent;\n",
              "      border-left-color: var(--fill-color);\n",
              "      border-top-color: var(--fill-color);\n",
              "      border-right-color: var(--fill-color);\n",
              "    }\n",
              "    40% {\n",
              "      border-color: transparent;\n",
              "      border-right-color: var(--fill-color);\n",
              "      border-top-color: var(--fill-color);\n",
              "    }\n",
              "    60% {\n",
              "      border-color: transparent;\n",
              "      border-right-color: var(--fill-color);\n",
              "    }\n",
              "    80% {\n",
              "      border-color: transparent;\n",
              "      border-right-color: var(--fill-color);\n",
              "      border-bottom-color: var(--fill-color);\n",
              "    }\n",
              "    90% {\n",
              "      border-color: transparent;\n",
              "      border-bottom-color: var(--fill-color);\n",
              "    }\n",
              "  }\n",
              "</style>\n",
              "\n",
              "  <script>\n",
              "    async function quickchart(key) {\n",
              "      const quickchartButtonEl =\n",
              "        document.querySelector('#' + key + ' button');\n",
              "      quickchartButtonEl.disabled = true;  // To prevent multiple clicks.\n",
              "      quickchartButtonEl.classList.add('colab-df-spinner');\n",
              "      try {\n",
              "        const charts = await google.colab.kernel.invokeFunction(\n",
              "            'suggestCharts', [key], {});\n",
              "      } catch (error) {\n",
              "        console.error('Error during call to suggestCharts:', error);\n",
              "      }\n",
              "      quickchartButtonEl.classList.remove('colab-df-spinner');\n",
              "      quickchartButtonEl.classList.add('colab-df-quickchart-complete');\n",
              "    }\n",
              "    (() => {\n",
              "      let quickchartButtonEl =\n",
              "        document.querySelector('#df-6414f323-3f7f-49ff-8b00-5921c48d5333 button');\n",
              "      quickchartButtonEl.style.display =\n",
              "        google.colab.kernel.accessAllowed ? 'block' : 'none';\n",
              "    })();\n",
              "  </script>\n",
              "</div>\n",
              "\n",
              "  <div id=\"id_c9a8fd65-81ac-423e-bbf0-53cd12430465\">\n",
              "    <style>\n",
              "      .colab-df-generate {\n",
              "        background-color: #E8F0FE;\n",
              "        border: none;\n",
              "        border-radius: 50%;\n",
              "        cursor: pointer;\n",
              "        display: none;\n",
              "        fill: #1967D2;\n",
              "        height: 32px;\n",
              "        padding: 0 0 0 0;\n",
              "        width: 32px;\n",
              "      }\n",
              "\n",
              "      .colab-df-generate:hover {\n",
              "        background-color: #E2EBFA;\n",
              "        box-shadow: 0px 1px 2px rgba(60, 64, 67, 0.3), 0px 1px 3px 1px rgba(60, 64, 67, 0.15);\n",
              "        fill: #174EA6;\n",
              "      }\n",
              "\n",
              "      [theme=dark] .colab-df-generate {\n",
              "        background-color: #3B4455;\n",
              "        fill: #D2E3FC;\n",
              "      }\n",
              "\n",
              "      [theme=dark] .colab-df-generate:hover {\n",
              "        background-color: #434B5C;\n",
              "        box-shadow: 0px 1px 3px 1px rgba(0, 0, 0, 0.15);\n",
              "        filter: drop-shadow(0px 1px 2px rgba(0, 0, 0, 0.3));\n",
              "        fill: #FFFFFF;\n",
              "      }\n",
              "    </style>\n",
              "    <button class=\"colab-df-generate\" onclick=\"generateWithVariable('X')\"\n",
              "            title=\"Generate code using this dataframe.\"\n",
              "            style=\"display:none;\">\n",
              "\n",
              "  <svg xmlns=\"http://www.w3.org/2000/svg\" height=\"24px\"viewBox=\"0 0 24 24\"\n",
              "       width=\"24px\">\n",
              "    <path d=\"M7,19H8.4L18.45,9,17,7.55,7,17.6ZM5,21V16.75L18.45,3.32a2,2,0,0,1,2.83,0l1.4,1.43a1.91,1.91,0,0,1,.58,1.4,1.91,1.91,0,0,1-.58,1.4L9.25,21ZM18.45,9,17,7.55Zm-12,3A5.31,5.31,0,0,0,4.9,8.1,5.31,5.31,0,0,0,1,6.5,5.31,5.31,0,0,0,4.9,4.9,5.31,5.31,0,0,0,6.5,1,5.31,5.31,0,0,0,8.1,4.9,5.31,5.31,0,0,0,12,6.5,5.46,5.46,0,0,0,6.5,12Z\"/>\n",
              "  </svg>\n",
              "    </button>\n",
              "    <script>\n",
              "      (() => {\n",
              "      const buttonEl =\n",
              "        document.querySelector('#id_c9a8fd65-81ac-423e-bbf0-53cd12430465 button.colab-df-generate');\n",
              "      buttonEl.style.display =\n",
              "        google.colab.kernel.accessAllowed ? 'block' : 'none';\n",
              "\n",
              "      buttonEl.onclick = () => {\n",
              "        google.colab.notebook.generateWithVariable('X');\n",
              "      }\n",
              "      })();\n",
              "    </script>\n",
              "  </div>\n",
              "\n",
              "    </div>\n",
              "  </div>\n"
            ],
            "application/vnd.google.colaboratory.intrinsic+json": {
              "type": "dataframe",
              "variable_name": "X",
              "summary": "{\n  \"name\": \"X\",\n  \"rows\": 500,\n  \"fields\": [\n    {\n      \"column\": \"age\",\n      \"properties\": {\n        \"dtype\": \"number\",\n        \"std\": 7.978861652261324,\n        \"min\": 20.0,\n        \"max\": 70.0,\n        \"num_unique_values\": 500,\n        \"samples\": [\n          36.12691774,\n          47.78972925,\n          57.13457591\n        ],\n        \"semantic_type\": \"\",\n        \"description\": \"\"\n      }\n    },\n    {\n      \"column\": \"annual Salary\",\n      \"properties\": {\n        \"dtype\": \"number\",\n        \"std\": 11703.378227774128,\n        \"min\": 20000.0,\n        \"max\": 100000.0,\n        \"num_unique_values\": 500,\n        \"samples\": [\n          74420.10254,\n          59139.2108,\n          67752.38329\n        ],\n        \"semantic_type\": \"\",\n        \"description\": \"\"\n      }\n    },\n    {\n      \"column\": \"credit card debt\",\n      \"properties\": {\n        \"dtype\": \"number\",\n        \"std\": 3489.1879728382005,\n        \"min\": 100.0,\n        \"max\": 20000.0,\n        \"num_unique_values\": 500,\n        \"samples\": [\n          10274.13558,\n          4630.544424,\n          13851.92122\n        ],\n        \"semantic_type\": \"\",\n        \"description\": \"\"\n      }\n    },\n    {\n      \"column\": \"net worth\",\n      \"properties\": {\n        \"dtype\": \"number\",\n        \"std\": 173536.75634000325,\n        \"min\": 20000.0,\n        \"max\": 1000000.0,\n        \"num_unique_values\": 500,\n        \"samples\": [\n          551344.3365,\n          473845.8546,\n          657178.4135\n        ],\n        \"semantic_type\": \"\",\n        \"description\": \"\"\n      }\n    }\n  ]\n}"
            }
          },
          "metadata": {},
          "execution_count": 8
        }
      ]
    },
    {
      "cell_type": "code",
      "source": [
        "y = df.iloc[:, -1] #drop all columns , except target column\n",
        "y"
      ],
      "metadata": {
        "colab": {
          "base_uri": "https://localhost:8080/"
        },
        "id": "vlLS0aQMHZ4S",
        "outputId": "d2c58292-e095-4761-aa87-bbc2e12ed628"
      },
      "execution_count": 9,
      "outputs": [
        {
          "output_type": "execute_result",
          "data": {
            "text/plain": [
              "0      35321.45877\n",
              "1      45115.52566\n",
              "2      42925.70921\n",
              "3      67422.36313\n",
              "4      55915.46248\n",
              "          ...     \n",
              "495    48901.44342\n",
              "496    31491.41457\n",
              "497    64147.28888\n",
              "498    45442.15353\n",
              "499    45107.22566\n",
              "Name: car purchase amount, Length: 500, dtype: float64"
            ]
          },
          "metadata": {},
          "execution_count": 9
        }
      ]
    },
    {
      "cell_type": "markdown",
      "source": [
        "**Scaling The Data**"
      ],
      "metadata": {
        "id": "1YSwdBd_hXEQ"
      }
    },
    {
      "cell_type": "code",
      "source": [
        "scale = MinMaxScaler()\n",
        "X = scale.fit_transform(X)\n",
        "y = scale.fit_transform(y.values.reshape(-1, 1))\n",
        "#Reshape(-1, 1) : you are asking numpy to reshape your array with 1 column and as many rows as necessary to accommodate the data\n",
        "X_train, X_test, y_train, y_test = train_test_split(X, y, test_size=.2)"
      ],
      "metadata": {
        "id": "wqueGFipHub3"
      },
      "execution_count": 10,
      "outputs": []
    },
    {
      "cell_type": "markdown",
      "source": [
        "**create model (Linear Regression)**\n"
      ],
      "metadata": {
        "id": "opPsgVjamKsg"
      }
    },
    {
      "cell_type": "code",
      "source": [
        "model = LinearRegression()\n",
        "model.fit(X_train, y_train)\n",
        "print('Training accuracy', model.score(X_train, y_train))\n",
        "print('Testing accuracy', model.score(X_test, y_test))"
      ],
      "metadata": {
        "colab": {
          "base_uri": "https://localhost:8080/"
        },
        "id": "mMA8xarpjIbO",
        "outputId": "cc7493ba-44c6-4385-d9ec-1d737828bb88"
      },
      "execution_count": 11,
      "outputs": [
        {
          "output_type": "stream",
          "name": "stdout",
          "text": [
            "Training accuracy 0.9999999807028982\n",
            "Testing accuracy 0.9999999830702558\n"
          ]
        }
      ]
    },
    {
      "cell_type": "code",
      "source": [
        "y_pred = model.predict(X_test)\n",
        "r2 = r2_score(y_test, y_pred)\n",
        "print('R2 score:', r2)"
      ],
      "metadata": {
        "colab": {
          "base_uri": "https://localhost:8080/"
        },
        "id": "agav6sP0nN1Y",
        "outputId": "38d19d45-5378-4f7e-c53c-a31969fa969d"
      },
      "execution_count": 12,
      "outputs": [
        {
          "output_type": "stream",
          "name": "stdout",
          "text": [
            "R2 score: 0.9999999830702558\n"
          ]
        }
      ]
    },
    {
      "cell_type": "markdown",
      "source": [
        "**create model (ANN)**"
      ],
      "metadata": {
        "id": "UvGsNqIDncC2"
      }
    },
    {
      "cell_type": "code",
      "source": [
        "ann = Sequential([Dense(32, activation=\"relu\"),\n",
        "                 Dense(1, activation='linear')])\n",
        "ann.compile(optimizer='adam',\n",
        "            loss='mean_squared_error',\n",
        "            metrics=['mean_absolute_error'])\n",
        "model = ann.fit(X_train, y_train, epochs=50, validation_split=0.2)"
      ],
      "metadata": {
        "colab": {
          "base_uri": "https://localhost:8080/"
        },
        "id": "PLdwAeY75883",
        "outputId": "8f8d63f1-e55e-4d0e-a42a-f5e415a2ee1e"
      },
      "execution_count": 13,
      "outputs": [
        {
          "output_type": "stream",
          "name": "stdout",
          "text": [
            "Epoch 1/50\n",
            "10/10 [==============================] - 1s 29ms/step - loss: 0.0690 - mean_absolute_error: 0.2271 - val_loss: 0.0382 - val_mean_absolute_error: 0.1598\n",
            "Epoch 2/50\n",
            "10/10 [==============================] - 0s 5ms/step - loss: 0.0252 - mean_absolute_error: 0.1272 - val_loss: 0.0175 - val_mean_absolute_error: 0.1086\n",
            "Epoch 3/50\n",
            "10/10 [==============================] - 0s 5ms/step - loss: 0.0210 - mean_absolute_error: 0.1162 - val_loss: 0.0160 - val_mean_absolute_error: 0.1018\n",
            "Epoch 4/50\n",
            "10/10 [==============================] - 0s 7ms/step - loss: 0.0174 - mean_absolute_error: 0.1061 - val_loss: 0.0128 - val_mean_absolute_error: 0.0936\n",
            "Epoch 5/50\n",
            "10/10 [==============================] - 0s 8ms/step - loss: 0.0139 - mean_absolute_error: 0.0938 - val_loss: 0.0122 - val_mean_absolute_error: 0.0909\n",
            "Epoch 6/50\n",
            "10/10 [==============================] - 0s 8ms/step - loss: 0.0123 - mean_absolute_error: 0.0881 - val_loss: 0.0106 - val_mean_absolute_error: 0.0848\n",
            "Epoch 7/50\n",
            "10/10 [==============================] - 0s 6ms/step - loss: 0.0106 - mean_absolute_error: 0.0819 - val_loss: 0.0088 - val_mean_absolute_error: 0.0768\n",
            "Epoch 8/50\n",
            "10/10 [==============================] - 0s 8ms/step - loss: 0.0093 - mean_absolute_error: 0.0766 - val_loss: 0.0078 - val_mean_absolute_error: 0.0719\n",
            "Epoch 9/50\n",
            "10/10 [==============================] - 0s 6ms/step - loss: 0.0081 - mean_absolute_error: 0.0714 - val_loss: 0.0071 - val_mean_absolute_error: 0.0685\n",
            "Epoch 10/50\n",
            "10/10 [==============================] - 0s 6ms/step - loss: 0.0073 - mean_absolute_error: 0.0674 - val_loss: 0.0066 - val_mean_absolute_error: 0.0654\n",
            "Epoch 11/50\n",
            "10/10 [==============================] - 0s 7ms/step - loss: 0.0066 - mean_absolute_error: 0.0642 - val_loss: 0.0059 - val_mean_absolute_error: 0.0621\n",
            "Epoch 12/50\n",
            "10/10 [==============================] - 0s 8ms/step - loss: 0.0060 - mean_absolute_error: 0.0612 - val_loss: 0.0055 - val_mean_absolute_error: 0.0594\n",
            "Epoch 13/50\n",
            "10/10 [==============================] - 0s 6ms/step - loss: 0.0055 - mean_absolute_error: 0.0585 - val_loss: 0.0050 - val_mean_absolute_error: 0.0568\n",
            "Epoch 14/50\n",
            "10/10 [==============================] - 0s 7ms/step - loss: 0.0050 - mean_absolute_error: 0.0560 - val_loss: 0.0047 - val_mean_absolute_error: 0.0544\n",
            "Epoch 15/50\n",
            "10/10 [==============================] - 0s 7ms/step - loss: 0.0045 - mean_absolute_error: 0.0534 - val_loss: 0.0043 - val_mean_absolute_error: 0.0522\n",
            "Epoch 16/50\n",
            "10/10 [==============================] - 0s 7ms/step - loss: 0.0042 - mean_absolute_error: 0.0513 - val_loss: 0.0040 - val_mean_absolute_error: 0.0502\n",
            "Epoch 17/50\n",
            "10/10 [==============================] - 0s 6ms/step - loss: 0.0039 - mean_absolute_error: 0.0494 - val_loss: 0.0037 - val_mean_absolute_error: 0.0479\n",
            "Epoch 18/50\n",
            "10/10 [==============================] - 0s 8ms/step - loss: 0.0036 - mean_absolute_error: 0.0472 - val_loss: 0.0036 - val_mean_absolute_error: 0.0468\n",
            "Epoch 19/50\n",
            "10/10 [==============================] - 0s 7ms/step - loss: 0.0033 - mean_absolute_error: 0.0452 - val_loss: 0.0032 - val_mean_absolute_error: 0.0445\n",
            "Epoch 20/50\n",
            "10/10 [==============================] - 0s 6ms/step - loss: 0.0031 - mean_absolute_error: 0.0438 - val_loss: 0.0030 - val_mean_absolute_error: 0.0430\n",
            "Epoch 21/50\n",
            "10/10 [==============================] - 0s 7ms/step - loss: 0.0028 - mean_absolute_error: 0.0417 - val_loss: 0.0029 - val_mean_absolute_error: 0.0421\n",
            "Epoch 22/50\n",
            "10/10 [==============================] - 0s 6ms/step - loss: 0.0026 - mean_absolute_error: 0.0400 - val_loss: 0.0026 - val_mean_absolute_error: 0.0396\n",
            "Epoch 23/50\n",
            "10/10 [==============================] - 0s 7ms/step - loss: 0.0024 - mean_absolute_error: 0.0390 - val_loss: 0.0024 - val_mean_absolute_error: 0.0390\n",
            "Epoch 24/50\n",
            "10/10 [==============================] - 0s 6ms/step - loss: 0.0022 - mean_absolute_error: 0.0370 - val_loss: 0.0022 - val_mean_absolute_error: 0.0371\n",
            "Epoch 25/50\n",
            "10/10 [==============================] - 0s 6ms/step - loss: 0.0020 - mean_absolute_error: 0.0357 - val_loss: 0.0020 - val_mean_absolute_error: 0.0361\n",
            "Epoch 26/50\n",
            "10/10 [==============================] - 0s 6ms/step - loss: 0.0019 - mean_absolute_error: 0.0345 - val_loss: 0.0019 - val_mean_absolute_error: 0.0352\n",
            "Epoch 27/50\n",
            "10/10 [==============================] - 0s 6ms/step - loss: 0.0017 - mean_absolute_error: 0.0328 - val_loss: 0.0017 - val_mean_absolute_error: 0.0329\n",
            "Epoch 28/50\n",
            "10/10 [==============================] - 0s 6ms/step - loss: 0.0016 - mean_absolute_error: 0.0315 - val_loss: 0.0017 - val_mean_absolute_error: 0.0329\n",
            "Epoch 29/50\n",
            "10/10 [==============================] - 0s 7ms/step - loss: 0.0015 - mean_absolute_error: 0.0299 - val_loss: 0.0014 - val_mean_absolute_error: 0.0305\n",
            "Epoch 30/50\n",
            "10/10 [==============================] - 0s 9ms/step - loss: 0.0013 - mean_absolute_error: 0.0290 - val_loss: 0.0013 - val_mean_absolute_error: 0.0293\n",
            "Epoch 31/50\n",
            "10/10 [==============================] - 0s 6ms/step - loss: 0.0012 - mean_absolute_error: 0.0277 - val_loss: 0.0012 - val_mean_absolute_error: 0.0284\n",
            "Epoch 32/50\n",
            "10/10 [==============================] - 0s 6ms/step - loss: 0.0011 - mean_absolute_error: 0.0266 - val_loss: 0.0011 - val_mean_absolute_error: 0.0264\n",
            "Epoch 33/50\n",
            "10/10 [==============================] - 0s 8ms/step - loss: 0.0010 - mean_absolute_error: 0.0255 - val_loss: 0.0010 - val_mean_absolute_error: 0.0261\n",
            "Epoch 34/50\n",
            "10/10 [==============================] - 0s 5ms/step - loss: 9.4784e-04 - mean_absolute_error: 0.0245 - val_loss: 8.9186e-04 - val_mean_absolute_error: 0.0239\n",
            "Epoch 35/50\n",
            "10/10 [==============================] - 0s 7ms/step - loss: 8.2530e-04 - mean_absolute_error: 0.0225 - val_loss: 8.4213e-04 - val_mean_absolute_error: 0.0237\n",
            "Epoch 36/50\n",
            "10/10 [==============================] - 0s 7ms/step - loss: 7.4195e-04 - mean_absolute_error: 0.0215 - val_loss: 7.2278e-04 - val_mean_absolute_error: 0.0217\n",
            "Epoch 37/50\n",
            "10/10 [==============================] - 0s 7ms/step - loss: 6.7113e-04 - mean_absolute_error: 0.0204 - val_loss: 6.6106e-04 - val_mean_absolute_error: 0.0210\n",
            "Epoch 38/50\n",
            "10/10 [==============================] - 0s 7ms/step - loss: 6.0990e-04 - mean_absolute_error: 0.0193 - val_loss: 5.8425e-04 - val_mean_absolute_error: 0.0198\n",
            "Epoch 39/50\n",
            "10/10 [==============================] - 0s 5ms/step - loss: 5.4584e-04 - mean_absolute_error: 0.0183 - val_loss: 5.2594e-04 - val_mean_absolute_error: 0.0188\n",
            "Epoch 40/50\n",
            "10/10 [==============================] - 0s 6ms/step - loss: 4.8737e-04 - mean_absolute_error: 0.0171 - val_loss: 4.6522e-04 - val_mean_absolute_error: 0.0176\n",
            "Epoch 41/50\n",
            "10/10 [==============================] - 0s 7ms/step - loss: 4.4163e-04 - mean_absolute_error: 0.0164 - val_loss: 4.3104e-04 - val_mean_absolute_error: 0.0171\n",
            "Epoch 42/50\n",
            "10/10 [==============================] - 0s 5ms/step - loss: 3.8902e-04 - mean_absolute_error: 0.0152 - val_loss: 3.7249e-04 - val_mean_absolute_error: 0.0157\n",
            "Epoch 43/50\n",
            "10/10 [==============================] - 0s 7ms/step - loss: 3.5087e-04 - mean_absolute_error: 0.0144 - val_loss: 3.3653e-04 - val_mean_absolute_error: 0.0150\n",
            "Epoch 44/50\n",
            "10/10 [==============================] - 0s 5ms/step - loss: 3.1089e-04 - mean_absolute_error: 0.0134 - val_loss: 2.9790e-04 - val_mean_absolute_error: 0.0140\n",
            "Epoch 45/50\n",
            "10/10 [==============================] - 0s 5ms/step - loss: 2.7691e-04 - mean_absolute_error: 0.0127 - val_loss: 2.6707e-04 - val_mean_absolute_error: 0.0134\n",
            "Epoch 46/50\n",
            "10/10 [==============================] - 0s 5ms/step - loss: 2.4712e-04 - mean_absolute_error: 0.0118 - val_loss: 2.4104e-04 - val_mean_absolute_error: 0.0127\n",
            "Epoch 47/50\n",
            "10/10 [==============================] - 0s 7ms/step - loss: 2.2215e-04 - mean_absolute_error: 0.0111 - val_loss: 2.0777e-04 - val_mean_absolute_error: 0.0117\n",
            "Epoch 48/50\n",
            "10/10 [==============================] - 0s 7ms/step - loss: 1.9481e-04 - mean_absolute_error: 0.0103 - val_loss: 1.8747e-04 - val_mean_absolute_error: 0.0111\n",
            "Epoch 49/50\n",
            "10/10 [==============================] - 0s 9ms/step - loss: 1.7482e-04 - mean_absolute_error: 0.0097 - val_loss: 1.6296e-04 - val_mean_absolute_error: 0.0102\n",
            "Epoch 50/50\n",
            "10/10 [==============================] - 0s 6ms/step - loss: 1.5635e-04 - mean_absolute_error: 0.0090 - val_loss: 1.4652e-04 - val_mean_absolute_error: 0.0097\n"
          ]
        }
      ]
    },
    {
      "cell_type": "code",
      "source": [
        "ann.evaluate(X_test, y_test)"
      ],
      "metadata": {
        "colab": {
          "base_uri": "https://localhost:8080/"
        },
        "id": "Bsz3Z4IG6-YJ",
        "outputId": "4020d960-4390-4400-c213-f1095af584b3"
      },
      "execution_count": 14,
      "outputs": [
        {
          "output_type": "stream",
          "name": "stdout",
          "text": [
            "4/4 [==============================] - 0s 3ms/step - loss: 2.1046e-04 - mean_absolute_error: 0.0097\n"
          ]
        },
        {
          "output_type": "execute_result",
          "data": {
            "text/plain": [
              "[0.0002104550221702084, 0.009746484458446503]"
            ]
          },
          "metadata": {},
          "execution_count": 14
        }
      ]
    },
    {
      "cell_type": "code",
      "source": [
        "ann.predict([[50, 50000.500, 8650,444000]])"
      ],
      "metadata": {
        "colab": {
          "base_uri": "https://localhost:8080/"
        },
        "id": "ANo4J0zx8tEz",
        "outputId": "a0d21ffd-788f-45bd-a4b8-dc042bbef05c"
      },
      "execution_count": 15,
      "outputs": [
        {
          "output_type": "stream",
          "name": "stdout",
          "text": [
            "1/1 [==============================] - 0s 98ms/step\n"
          ]
        },
        {
          "output_type": "execute_result",
          "data": {
            "text/plain": [
              "array([[251432.39]], dtype=float32)"
            ]
          },
          "metadata": {},
          "execution_count": 15
        }
      ]
    },
    {
      "cell_type": "markdown",
      "source": [
        "**Save the model**"
      ],
      "metadata": {
        "id": "t2w4fewT-rI4"
      }
    },
    {
      "cell_type": "code",
      "source": [
        "ann.save(\"Car_Price_ANN.keras\")"
      ],
      "metadata": {
        "id": "Ze11QldB-NQq"
      },
      "execution_count": 16,
      "outputs": []
    },
    {
      "cell_type": "code",
      "source": [
        "import keras\n",
        "ann = keras.models.load_model('Car_Price_ANN.keras')\n",
        "ann.evaluate(X_test, y_test)"
      ],
      "metadata": {
        "colab": {
          "base_uri": "https://localhost:8080/"
        },
        "id": "9s97hkYr-qYf",
        "outputId": "d23d547b-6eed-49c0-9a04-ee8781212615"
      },
      "execution_count": 17,
      "outputs": [
        {
          "output_type": "stream",
          "name": "stdout",
          "text": [
            "4/4 [==============================] - 0s 3ms/step - loss: 2.1046e-04 - mean_absolute_error: 0.0097\n"
          ]
        },
        {
          "output_type": "execute_result",
          "data": {
            "text/plain": [
              "[0.0002104550221702084, 0.009746484458446503]"
            ]
          },
          "metadata": {},
          "execution_count": 17
        }
      ]
    }
  ]
}